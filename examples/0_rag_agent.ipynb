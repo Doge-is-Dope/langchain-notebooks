{
 "cells": [
  {
   "cell_type": "code",
   "execution_count": 1,
   "id": "initial_id",
   "metadata": {
    "ExecuteTime": {
     "end_time": "2024-06-30T05:09:42.392045Z",
     "start_time": "2024-06-30T05:09:42.383743Z"
    },
    "collapsed": true
   },
   "outputs": [],
   "source": [
    "import os\n",
    "\n",
    "from dotenv import load_dotenv\n",
    "\n",
    "# Load environment variables\n",
    "load_dotenv()\n",
    "\n",
    "os.environ[\"LANGCHAIN_TRACING_V2\"] = \"true\"\n",
    "os.environ[\"LANGCHAIN_API_KEY\"] = os.getenv(\"LANGCHAIN_API_KEY\")\n",
    "os.environ[\"OPENAI_API_KEY\"] = os.getenv(\"OPENAI_API_KEY\")\n",
    "os.environ[\"ANTHROPIC_API_KEY\"] = os.getenv(\"ANTHROPIC_API_KEY\")"
   ]
  },
  {
   "cell_type": "markdown",
   "id": "ea7c90c65ea3fa0b",
   "metadata": {},
   "source": [
    "# Create vector store\n"
   ]
  },
  {
   "cell_type": "code",
   "execution_count": 2,
   "id": "218c3e48",
   "metadata": {},
   "outputs": [],
   "source": [
    "# Workaround for the issues using asyncio\n",
    "\n",
    "import nest_asyncio\n",
    "\n",
    "nest_asyncio.apply()"
   ]
  },
  {
   "cell_type": "code",
   "execution_count": 3,
   "id": "640af2a8d0f748a1",
   "metadata": {
    "ExecuteTime": {
     "end_time": "2024-06-30T05:13:16.452573Z",
     "start_time": "2024-06-30T05:13:16.217215Z"
    }
   },
   "outputs": [
    {
     "name": "stderr",
     "output_type": "stream",
     "text": [
      "USER_AGENT environment variable not set, consider setting it to identify your requests.\n",
      "/opt/homebrew/Cellar/python@3.11/3.11.8/Frameworks/Python.framework/Versions/3.11/lib/python3.11/html/parser.py:170: XMLParsedAsHTMLWarning: It looks like you're parsing an XML document using an HTML parser. If this really is an HTML document (maybe it's XHTML?), you can ignore or filter this warning. If it's XML, you should know that using an XML parser will be more reliable. To parse this document as XML, make sure you have the lxml package installed, and pass the keyword argument `features=\"xml\"` into the BeautifulSoup constructor.\n",
      "  k = self.parse_starttag(i)\n",
      "Fetching pages: 100%|##########| 41/41 [00:01<00:00, 27.43it/s]\n"
     ]
    }
   ],
   "source": [
    "from langchain_chroma import Chroma\n",
    "from langchain_community.document_loaders import GitbookLoader\n",
    "from langchain_openai import OpenAIEmbeddings\n",
    "from langchain_text_splitters import RecursiveCharacterTextSplitter\n",
    "\n",
    "\n",
    "# Read Gitbook\n",
    "def load_gitbook(url: str = \"https://bentobatch.gitbook.io\"):\n",
    "    loader = GitbookLoader(url, load_all_paths=True)\n",
    "    data = loader.load()\n",
    "    return data\n",
    "\n",
    "\n",
    "# Load the documents from Gitbook\n",
    "docs = load_gitbook()\n",
    "\n",
    "\n",
    "# Split the documents into chunks.\n",
    "text_splitter = RecursiveCharacterTextSplitter(chunk_size=1000, chunk_overlap=200)\n",
    "splits = text_splitter.split_documents(docs)\n",
    "\n",
    "embedding_model = OpenAIEmbeddings(model=\"text-embedding-3-small\")\n",
    "vector_store = Chroma.from_documents(documents=splits, embedding=embedding_model)\n",
    "retriever = vector_store.as_retriever()"
   ]
  },
  {
   "cell_type": "code",
   "execution_count": 4,
   "id": "1bd7923d",
   "metadata": {},
   "outputs": [
    {
     "data": {
      "text/plain": [
       "[Document(metadata={'source': 'https://bentobatch.gitbook.io/bentobatch/getting-started/faq', 'title': '❓FAQ'}, page_content=\"❓\\nFAQ\\nWhat is Bento Batch?\\nBento Batch is a Streamlined Transaction Layer, leveraging Account Abstraction technique to upscale blockchain efficiency, providing an easier, cheaper, and safer on-chain experience.\\nWhat is Batch?\\nBatch is a bundle of on-chain interactions, consolidating them into a single transaction. With just One Click on Batch, all interactions are completed, eliminating the need for multiple signs and confirmations.\\nHow do I collect Bento Box?\\nExecute a Batch to earn Bento Boxes! With higher gas fees, more transactions per Batch, and larger volume input, you'll receive more Bento Boxes as rewards!\\nRefer your friends and receive an additional 10% of their Bento Boxes as a bonus!\\nHow do I refer Batch to frens?\\nYou can find a referral link on every Batch page! Just head to the Batch page, and you'll see the share link right next to the Batch title!\\nWhich chains are Bento Batch supported?\"),\n",
       " Document(metadata={'source': 'https://bentobatch.gitbook.io/bentobatch/getting-started/batch-concept', 'title': '🌟Batch Concept'}, page_content='🌟\\nBatch Concept\\nBentoBatch utilizes Batch to simplify user interactions on the blockchain.\\nEach Batch combines multiple transactions. By merging them into one transaction using Account Abstraction technology, we significantly reduce gas fees, making on-chain interactions easier, cheaper, and safer.\\nIn the following use case, the Batch encompasses all on-chain tasks: from staking (depositing) for eETH to approve and send weETH to Arbitrum via the official bridge. \\nWith Batch, users only need to confirm once on the BentoBatch website to complete all on-chain tasks. Moreover, users can enjoy lower gas fees.\\n#OneClickAllSet\\nPrevious\\nIntroduction\\nNext\\nBento Box\\nLast updated \\n2 months ago'),\n",
       " Document(metadata={'source': 'https://bentobatch.gitbook.io/bentobatch/getting-started/introduction', 'title': '💡Introduction'}, page_content='💡\\nIntroduction\\nBento Batch is a Intent Transaction Layer to upscale blockchain efficiency.\\nIntent Transaction Layer (ITL) redefining the interaction between wallets and dApps. Within this layer, transactions are streamlined into the desired outcomes of various actions. \\nUsers no longer need to sign each transaction individually or grasp every transaction detail. Instead, they simply define their objectives, and the ITL facilitates their needs efficiently.\\nPrevious\\nGetting Started\\nNext\\nBatch Concept\\nLast updated \\n28 days ago'),\n",
       " Document(metadata={'source': 'https://bentobatch.gitbook.io/bentobatch/galxe/explore-bento-batch-beta-platform-ended', 'title': 'Explore Bento Batch Beta Platform (ended)'}, page_content='Explore Bento Batch Beta Platform (ended)\\nDeadline: 5/22 (00:00 GMT+8)\\nBento Batch Beta-Platform is now open for exploration! Discover the optimal Batch to simplify your on-chain interactions!\\nLeverage Batches for cost-efficiency, convenience, and secure on-chain transactions.\\nStay tuned for regular batch updates - seize the opportunity!\\nhttps://app.galxe.com/quest/AjV5DkrArz8Up6VaK4Rz8P/GCJ5mtTa88\\nPrevious\\nStart with Bento Batch ! (ended)\\nNext\\nJourney of Collecting Bento Box - week 1 (ended)\\nLast updated \\n2 months ago')]"
      ]
     },
     "execution_count": 4,
     "metadata": {},
     "output_type": "execute_result"
    }
   ],
   "source": [
    "retriever.invoke(\"What is Bento Batch?\")"
   ]
  },
  {
   "cell_type": "markdown",
   "id": "ff053ab3",
   "metadata": {},
   "source": [
    "### Another Tool\n"
   ]
  },
  {
   "cell_type": "code",
   "execution_count": 5,
   "id": "d8317a1e",
   "metadata": {},
   "outputs": [
    {
     "name": "stdout",
     "output_type": "stream",
     "text": [
      "{'account': {'title': 'Account', 'type': 'string'}}\n"
     ]
    },
    {
     "data": {
      "text/plain": [
       "{'account': '0x436f795B64E23E6cE7792af4923A68AFD3967952',\n",
       " 'assets': ['USDT', 'USDC', 'ETH'],\n",
       " 'chains': ['Ethereum', 'Blast']}"
      ]
     },
     "execution_count": 5,
     "metadata": {},
     "output_type": "execute_result"
    }
   ],
   "source": [
    "from langchain_core.tools import StructuredTool, ToolException\n",
    "from langchain.tools.retriever import create_retriever_tool\n",
    "\n",
    "\n",
    "def get_account_info(account: str):\n",
    "    \"\"\"\n",
    "    Retrieves the user's wallet information, which includes\n",
    "    the most frequently used cryptocurrencies (tokens), frequently interacted networks (chains), and transaction history.\n",
    "    \"\"\"\n",
    "    if not account.startswith(\"0x\") or len(account) != 42:\n",
    "        raise ToolException(\"Error: Invalid account address: ${account}\")\n",
    "\n",
    "    return {\n",
    "        \"account\": account,\n",
    "        \"assets\": [\"USDT\", \"USDC\", \"ETH\"],\n",
    "        \"chains\": [\"Ethereum\", \"Blast\"],\n",
    "    }\n",
    "\n",
    "\n",
    "get_account_info_tool = StructuredTool.from_function(\n",
    "    func=get_account_info,\n",
    "    handle_tool_error=True,\n",
    ")\n",
    "\n",
    "print(get_account_info_tool.args)\n",
    "\n",
    "get_account_info_tool.invoke({\"account\": \"0x436f795B64E23E6cE7792af4923A68AFD3967952\"})"
   ]
  },
  {
   "cell_type": "code",
   "execution_count": 6,
   "id": "ee54ed19",
   "metadata": {},
   "outputs": [],
   "source": [
    "bento_gitbook_retriever = create_retriever_tool(\n",
    "    retriever,\n",
    "    \"bentobatch_gitbook_retriever\",\n",
    "    \"Answers question about Bento Batch\",\n",
    ")\n",
    "\n",
    "tools = [bento_gitbook_retriever, get_account_info_tool]"
   ]
  },
  {
   "cell_type": "markdown",
   "id": "922024f4",
   "metadata": {},
   "source": [
    "# Agent\n"
   ]
  },
  {
   "cell_type": "code",
   "execution_count": 7,
   "id": "cd98b595",
   "metadata": {},
   "outputs": [],
   "source": [
    "from langchain_core.messages import HumanMessage\n",
    "from langchain_core.prompts import ChatPromptTemplate\n",
    "from langgraph.checkpoint.sqlite import SqliteSaver\n",
    "from langchain_core.runnables import RunnableConfig\n",
    "from langchain_openai import ChatOpenAI\n",
    "from langgraph.prebuilt import create_react_agent\n",
    "\n",
    "\n",
    "memory = SqliteSaver.from_conn_string(\":memory:\")\n",
    "\n",
    "model = ChatOpenAI(model=\"gpt-4o-mini\")\n",
    "\n",
    "# todo: this is a dummy account address\n",
    "account = \"0x436f795B64E23E6cE7792af4923A68AFD3967952\"\n",
    "\n",
    "agent_executor = create_react_agent(model, tools=tools, checkpointer=memory)"
   ]
  },
  {
   "cell_type": "code",
   "execution_count": 8,
   "id": "1d237db9",
   "metadata": {},
   "outputs": [
    {
     "data": {
      "image/jpeg": "[encoded data removed]",
      "text/plain": [
       "<IPython.core.display.Image object>"
      ]
     },
     "metadata": {},
     "output_type": "display_data"
    }
   ],
   "source": [
    "from IPython.display import Image, display\n",
    "\n",
    "try:\n",
    "    display(Image(agent_executor.get_graph().draw_mermaid_png()))\n",
    "except Exception as e:\n",
    "    # This requires some extra dependencies and is optional\n",
    "    print(e)\n",
    "    pass"
   ]
  },
  {
   "cell_type": "code",
   "execution_count": 9,
   "id": "15a60e86",
   "metadata": {},
   "outputs": [
    {
     "data": {
      "text/plain": [
       "{'messages': [HumanMessage(content='Hi', id='76d5970d-8cc3-4e84-8971-fd60c51df793'),\n",
       "  AIMessage(content='Hello! How can I assist you today?', response_metadata={'token_usage': {'completion_tokens': 10, 'prompt_tokens': 102, 'total_tokens': 112}, 'model_name': 'gpt-4o-mini-2024-07-18', 'system_fingerprint': 'fp_7dd529cfca', 'finish_reason': 'stop', 'logprobs': None}, id='run-425277f8-65ec-413f-9c82-dfc5e84272cd-0', usage_metadata={'input_tokens': 102, 'output_tokens': 10, 'total_tokens': 112})]}"
      ]
     },
     "execution_count": 9,
     "metadata": {},
     "output_type": "execute_result"
    }
   ],
   "source": [
    "config = {\"configurable\": {\"thread_id\": \"123\"}}\n",
    "\n",
    "response = agent_executor.invoke(\n",
    "    {\"messages\": [HumanMessage(content=\"Hi\")]}, config=config\n",
    ")\n",
    "response"
   ]
  },
  {
   "cell_type": "code",
   "execution_count": 10,
   "id": "d38df22b",
   "metadata": {},
   "outputs": [
    {
     "name": "stdout",
     "output_type": "stream",
     "text": [
      "Please provide me with your account address so that I can retrieve your account information.\n"
     ]
    }
   ],
   "source": [
    "query = \"Tell me about my account info\"\n",
    "response = agent_executor.invoke(\n",
    "    {\"messages\": [HumanMessage(content=query)]}, config=config\n",
    ")\n",
    "print(response[\"messages\"][-1].content)"
   ]
  },
  {
   "cell_type": "code",
   "execution_count": 11,
   "id": "8a6c337e",
   "metadata": {},
   "outputs": [
    {
     "name": "stdout",
     "output_type": "stream",
     "text": [
      "Here is the information about your account:\n",
      "\n",
      "- **Account Address:** 0x436f795B64E23E6cE7792af4923A68AFD3967952\n",
      "- **Frequently Used Assets:**\n",
      "  - USDT (Tether)\n",
      "  - USDC (USD Coin)\n",
      "  - ETH (Ethereum)\n",
      "- **Frequently Interacted Networks:**\n",
      "  - Ethereum\n",
      "  - Blast\n",
      "\n",
      "If you need more details or have any other questions, feel free to ask!\n"
     ]
    }
   ],
   "source": [
    "query = \"My account address is 0x436f795B64E23E6cE7792af4923A68AFD3967952\"\n",
    "response = agent_executor.invoke(\n",
    "    {\"messages\": [HumanMessage(content=query)]}, config=config\n",
    ")\n",
    "print(response[\"messages\"][-1].content)"
   ]
  },
  {
   "cell_type": "code",
   "execution_count": 12,
   "id": "47a5ec0b",
   "metadata": {},
   "outputs": [
    {
     "name": "stdout",
     "output_type": "stream",
     "text": [
      "I recommend exploring the **Scroll Batch** case, which allows you to interact with a decentralized exchange (Dex) on the Scroll network. Here's a breakdown of the different levels available:\n",
      "\n",
      "1. **Rookie Level**\n",
      "   - Number of Contracts Interacted: 2\n",
      "   - On-Chain Volume Boost: 4x\n",
      "   - Clicks Saved: 4\n",
      "   - [Learn More](https://bentobatch.com/case/scroll_airdrop_hunting_rookie)\n",
      "\n",
      "2. **Advanced Level**\n",
      "   - Number of Contracts Interacted: 7\n",
      "   - On-Chain Volume Boost: 10x\n",
      "   - Clicks Saved: 15\n",
      "   - [Learn More](https://bentobatch.com/case/scroll_airdrop_hunting_advanced)\n",
      "\n",
      "3. **Professional Level**\n",
      "   - Number of Contracts Interacted: 9\n",
      "   - On-Chain Volume Boost: 13x\n",
      "   - Clicks Saved: 21\n",
      "   - [Learn More](https://bentobatch.com/case/scroll_airdrop_hunting_professional)\n",
      "\n",
      "These cases utilize BentoBatch's technology to simplify your on-chain interactions and save on gas fees. If you have any specific preferences or need more information, let me know!\n"
     ]
    }
   ],
   "source": [
    "query = \"Recommend me a batch case\"\n",
    "response = agent_executor.invoke(\n",
    "    {\"messages\": [HumanMessage(content=query)]}, config=config\n",
    ")\n",
    "print(response[\"messages\"][-1].content)"
   ]
  },
  {
   "cell_type": "code",
   "execution_count": 13,
   "id": "5f1f20e0",
   "metadata": {},
   "outputs": [
    {
     "name": "stdout",
     "output_type": "stream",
     "text": [
      "Here are some airdrop cases on the Scroll chain that you can explore:\n",
      "\n",
      "1. **Rookie Level Airdrop**\n",
      "   - Number of Contracts Interacted: 2\n",
      "   - On-Chain Volume Boost: 4x\n",
      "   - Clicks Saved: 4\n",
      "   - [Participate Here](https://bentobatch.com/case/scroll_airdrop_hunting_rookie)\n",
      "\n",
      "2. **Advanced Level Airdrop**\n",
      "   - Number of Contracts Interacted: 7\n",
      "   - On-Chain Volume Boost: 10x\n",
      "   - Clicks Saved: 15\n",
      "   - [Participate Here](https://bentobatch.com/case/scroll_airdrop_hunting_advanced)\n",
      "\n",
      "3. **Professional Level Airdrop**\n",
      "   - Number of Contracts Interacted: 9\n",
      "   - On-Chain Volume Boost: 13x\n",
      "   - Clicks Saved: 21\n",
      "   - [Participate Here](https://bentobatch.com/case/scroll_airdrop_hunting_professional)\n",
      "\n",
      "These airdrop cases allow you to interact with various contracts on the Scroll network and maximize your on-chain volume while saving on clicks. If you have any questions or need further assistance, feel free to ask!\n"
     ]
    }
   ],
   "source": [
    "query = \"Can you provide some Airdrop cases on Scroll chain?\"\n",
    "response = agent_executor.invoke(\n",
    "    {\"messages\": [HumanMessage(content=query)]}, config=config\n",
    ")\n",
    "print(response[\"messages\"][-1].content)"
   ]
  }
 ],
 "metadata": {
  "kernelspec": {
   "display_name": "Python 3",
   "language": "python",
   "name": "python3"
  },
  "language_info": {
   "codemirror_mode": {
    "name": "ipython",
    "version": 3
   },
   "file_extension": ".py",
   "mimetype": "text/x-python",
   "name": "python",
   "nbconvert_exporter": "python",
   "pygments_lexer": "ipython3",
   "version": "3.11.8"
  }
 },
 "nbformat": 4,
 "nbformat_minor": 5
}
