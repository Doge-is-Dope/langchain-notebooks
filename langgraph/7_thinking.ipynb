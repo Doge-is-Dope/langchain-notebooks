{
 "cells": [
  {
   "cell_type": "code",
   "execution_count": 1,
   "metadata": {},
   "outputs": [],
   "source": [
    "import os\n",
    "from dotenv import load_dotenv\n",
    "\n",
    "load_dotenv()\n",
    "\n",
    "os.environ[\"LANGCHAIN_TRACING_V2\"] = \"true\"\n",
    "os.environ[\"LANGCHAIN_API_KEY\"] = os.getenv(\"LANGCHAIN_API_KEY\")\n",
    "os.environ[\"OPENAI_API_KEY\"] = os.getenv(\"OPENAI_API_KEY\")"
   ]
  },
  {
   "cell_type": "markdown",
   "metadata": {},
   "source": [
    "### Tools\n"
   ]
  },
  {
   "cell_type": "code",
   "execution_count": 2,
   "metadata": {},
   "outputs": [],
   "source": [
    "from langchain_community.tools.tavily_search import TavilySearchResults\n",
    "\n",
    "tools = [TavilySearchResults(max_results=3)]"
   ]
  },
  {
   "cell_type": "code",
   "execution_count": 3,
   "metadata": {},
   "outputs": [],
   "source": [
    "from langchain_openai import ChatOpenAI\n",
    "\n",
    "from langgraph.prebuilt import create_react_agent\n",
    "\n",
    "# Choose the LLM that will drive the agent\n",
    "llm = ChatOpenAI(model=\"gpt-4o-mini\")\n",
    "agent_executor = create_react_agent(llm, tools)"
   ]
  },
  {
   "cell_type": "code",
   "execution_count": 4,
   "metadata": {},
   "outputs": [],
   "source": [
    "async def ask(question, config=None):\n",
    "    async for chunk in agent_executor.astream(\n",
    "        input={\"messages\": [(\"user\", question)]}, stream_mode=\"values\", config=config\n",
    "    ):\n",
    "        chunk[\"messages\"][-1].pretty_print()"
   ]
  },
  {
   "cell_type": "code",
   "execution_count": 5,
   "metadata": {},
   "outputs": [
    {
     "name": "stdout",
     "output_type": "stream",
     "text": [
      "================================\u001b[1m Human Message \u001b[0m=================================\n",
      "\n",
      "How's the weather today in Kyoto?\n",
      "==================================\u001b[1m Ai Message \u001b[0m==================================\n",
      "Tool Calls:\n",
      "  tavily_search_results_json (call_XUv0VNzbJfEzgyJtDLDpZw8y)\n",
      " Call ID: call_XUv0VNzbJfEzgyJtDLDpZw8y\n",
      "  Args:\n",
      "    query: current weather in Kyoto\n",
      "=================================\u001b[1m Tool Message \u001b[0m=================================\n",
      "Name: tavily_search_results_json\n",
      "\n",
      "[{\"url\": \"https://www.weatherapi.com/\", \"content\": \"{'location': {'name': 'Kyoto', 'region': 'Kyo\\\\x8dto', 'country': 'Japan', 'lat': 35.02, 'lon': 135.75, 'tz_id': 'Asia/Tokyo', 'localtime_epoch': 1723697231, 'localtime': '2024-08-15 13:47'}, 'current': {'last_updated_epoch': 1723697100, 'last_updated': '2024-08-15 13:45', 'temp_c': 35.8, 'temp_f': 96.4, 'is_day': 1, 'condition': {'text': 'Partly Cloudy', 'icon': '//cdn.weatherapi.com/weather/64x64/day/116.png', 'code': 1003}, 'wind_mph': 4.9, 'wind_kph': 7.9, 'wind_degree': 10, 'wind_dir': 'N', 'pressure_mb': 1005.0, 'pressure_in': 29.67, 'precip_mm': 0.0, 'precip_in': 0.0, 'humidity': 44, 'cloud': 44, 'feelslike_c': 40.7, 'feelslike_f': 105.2, 'windchill_c': 35.8, 'windchill_f': 96.4, 'heatindex_c': 40.7, 'heatindex_f': 105.2, 'dewpoint_c': 21.5, 'dewpoint_f': 70.6, 'vis_km': 10.0, 'vis_miles': 6.0, 'uv': 9.0, 'gust_mph': 5.7, 'gust_kph': 9.1}}\"}, {\"url\": \"https://www.timeanddate.com/weather/japan/kyoto/ext\", \"content\": \"Kyoto 14 Day Extended Forecast. Weather Today Weather Hourly 14 Day Forecast Yesterday/Past Weather Climate (Averages) Currently: 84 \\u00b0F. Sprinkles. Passing clouds. (Weather station: Osaka International Airport, Japan).\"}, {\"url\": \"https://world-weather.info/forecast/japan/kyoto/august-2024/\", \"content\": \"Extended weather forecast in Kyoto. Hourly Week 10 days 14 days 30 days Year. Detailed \\u26a1 Kyoto Weather Forecast for August 2024 - day/night \\ud83c\\udf21\\ufe0f temperatures, precipitations - World-Weather.info.\"}]\n",
      "==================================\u001b[1m Ai Message \u001b[0m==================================\n",
      "\n",
      "Today in Kyoto, the weather is partly cloudy with a temperature of approximately 35.8°C (96.4°F). The humidity level is around 44%, and there are light winds coming from the north at about 4.9 mph (7.9 kph). It feels hotter, with a heat index of about 40.7°C (105.2°F). There is no precipitation expected, so it should remain dry throughout the day.\n",
      "\n",
      "For more details, you can check [Weather API](https://www.weatherapi.com/) or [Time and Date](https://www.timeanddate.com/weather/japan/kyoto/ext).\n"
     ]
    }
   ],
   "source": [
    "await ask(\"How's the weather today in Kyoto?\")"
   ]
  },
  {
   "cell_type": "markdown",
   "metadata": {},
   "source": [
    "### State\n"
   ]
  },
  {
   "cell_type": "code",
   "execution_count": 6,
   "metadata": {},
   "outputs": [],
   "source": [
    "import operator\n",
    "from typing import Annotated, List, Tuple, TypedDict\n",
    "\n",
    "\n",
    "class PlanExecute(TypedDict):\n",
    "    input: str\n",
    "    plan: List[str]\n",
    "    past_steps: Annotated[List, operator.add]\n",
    "    response: str"
   ]
  },
  {
   "cell_type": "code",
   "execution_count": 7,
   "metadata": {},
   "outputs": [],
   "source": [
    "from langchain_core.pydantic_v1 import BaseModel, Field\n",
    "\n",
    "\n",
    "class Plan(BaseModel):\n",
    "    \"\"\"Plan to follow in future\"\"\"\n",
    "\n",
    "    steps: List[str] = Field(\n",
    "        description=\"different steps to follow, should be in sorted order\"\n",
    "    )"
   ]
  },
  {
   "cell_type": "code",
   "execution_count": 8,
   "metadata": {},
   "outputs": [],
   "source": [
    "from langchain_core.prompts import ChatPromptTemplate\n",
    "\n",
    "planner_prompt = ChatPromptTemplate.from_messages(\n",
    "    [\n",
    "        (\n",
    "            \"system\",\n",
    "            \"\"\"For the given objective, come up with a simple step by step plan. \\\n",
    "This plan should involve individual tasks, that if executed correctly will yield the correct answer. Do not add any superfluous steps. \\\n",
    "The result of the final step should be the final answer. Make sure that each step has all the information needed - do not skip steps.\"\"\",\n",
    "        ),\n",
    "        (\"placeholder\", \"{messages}\"),\n",
    "    ]\n",
    ")\n",
    "planner = planner_prompt | ChatOpenAI(\n",
    "    model=\"gpt-4o-mini\", temperature=0\n",
    ").with_structured_output(Plan)"
   ]
  },
  {
   "cell_type": "code",
   "execution_count": 9,
   "metadata": {},
   "outputs": [
    {
     "data": {
      "text/plain": [
       "Plan(steps=['Identify the U.S. president in 1992.', 'Determine the birth year of that president.', 'Calculate the age of the president in 1992 by subtracting the birth year from 1992.'])"
      ]
     },
     "execution_count": 9,
     "metadata": {},
     "output_type": "execute_result"
    }
   ],
   "source": [
    "planner.invoke({\"messages\": [(\"user\", \"How old was the U.S. president in 1992?\")]})"
   ]
  },
  {
   "cell_type": "markdown",
   "metadata": {},
   "source": [
    "### Re-Plan Step\n"
   ]
  },
  {
   "cell_type": "code",
   "execution_count": 10,
   "metadata": {},
   "outputs": [],
   "source": [
    "from typing import Union\n",
    "\n",
    "\n",
    "class Response(BaseModel):\n",
    "    \"\"\"Response to user.\"\"\"\n",
    "\n",
    "    response: str\n",
    "\n",
    "\n",
    "class Act(BaseModel):\n",
    "    \"\"\"Action to perform.\"\"\"\n",
    "\n",
    "    action: Union[Response, Plan] = Field(\n",
    "        description=\"Action to perform. If you want to respond to user, use Response. \"\n",
    "        \"If you need to further use tools to get the answer, use Plan.\"\n",
    "    )\n",
    "\n",
    "\n",
    "replanner_prompt = ChatPromptTemplate.from_template(\n",
    "    \"\"\"For the given objective, come up with a simple step by step plan. \\\n",
    "This plan should involve individual tasks, that if executed correctly will yield the correct answer. Do not add any superfluous steps. \\\n",
    "The result of the final step should be the final answer. Make sure that each step has all the information needed - do not skip steps.\n",
    "\n",
    "Your objective was this:\n",
    "{input}\n",
    "\n",
    "Your original plan was this:\n",
    "{plan}\n",
    "\n",
    "You have currently done the follow steps:\n",
    "{past_steps}\n",
    "\n",
    "Update your plan accordingly. If no more steps are needed and you can return to the user, then respond with that. Otherwise, fill out the plan. Only add steps to the plan that still NEED to be done. Do not return previously done steps as part of the plan.\"\"\"\n",
    ")\n",
    "\n",
    "\n",
    "replanner = replanner_prompt | ChatOpenAI(\n",
    "    model=\"gpt-4o-mini\", temperature=0\n",
    ").with_structured_output(Act)"
   ]
  },
  {
   "cell_type": "markdown",
   "metadata": {},
   "source": [
    "### Create the Graph\n"
   ]
  },
  {
   "cell_type": "code",
   "execution_count": 11,
   "metadata": {},
   "outputs": [],
   "source": [
    "from typing import Literal\n",
    "\n",
    "\n",
    "async def execute_step(state: PlanExecute):\n",
    "    plan = state[\"plan\"]\n",
    "\n",
    "    # if not plan:\n",
    "    #     # No plan was generated\n",
    "    #     output = await replanner.ainvoke(state)\n",
    "    #     return {\"response\": output.action.response}\n",
    "\n",
    "    plan_str = \"\\n\".join(f\"{i+1}. {step}\" for i, step in enumerate(plan))\n",
    "    task = plan[0]\n",
    "    task_formatted = f\"\"\"For the following plan:\n",
    "{plan_str}\\n\\nYou are tasked with executing step {1}, {task}.\"\"\"\n",
    "    agent_response = await agent_executor.ainvoke(\n",
    "        {\"messages\": [(\"user\", task_formatted)]}\n",
    "    )\n",
    "    return {\n",
    "        \"past_steps\": [task, agent_response[\"messages\"][-1].content],\n",
    "    }\n",
    "\n",
    "\n",
    "async def plan_step(state: PlanExecute):\n",
    "    plan = await planner.ainvoke({\"messages\": [(\"user\", state[\"input\"])]})\n",
    "    return {\"plan\": plan.steps}\n",
    "\n",
    "\n",
    "async def replan_step(state: PlanExecute):\n",
    "    output = await replanner.ainvoke(state)\n",
    "    if isinstance(output.action, Response):\n",
    "        return {\"response\": output.action.response}\n",
    "    else:\n",
    "        return {\"plan\": output.action.steps}\n",
    "\n",
    "\n",
    "def should_end(state: PlanExecute) -> Literal[\"agent\", \"__end__\"]:\n",
    "    if \"response\" in state and state[\"response\"]:\n",
    "        return \"__end__\"\n",
    "    else:\n",
    "        return \"agent\""
   ]
  },
  {
   "cell_type": "code",
   "execution_count": 12,
   "metadata": {},
   "outputs": [],
   "source": [
    "from langgraph.graph import StateGraph, START\n",
    "\n",
    "workflow = StateGraph(PlanExecute)\n",
    "\n",
    "# Add the plan node\n",
    "workflow.add_node(\"planner\", plan_step)\n",
    "\n",
    "# Add the execution step\n",
    "workflow.add_node(\"agent\", execute_step)\n",
    "\n",
    "# Add a replan node\n",
    "workflow.add_node(\"replan\", replan_step)\n",
    "\n",
    "workflow.add_edge(START, \"planner\")\n",
    "\n",
    "# From plan we go to agent\n",
    "workflow.add_edge(\"planner\", \"agent\")\n",
    "\n",
    "# From agent, we replan\n",
    "workflow.add_edge(\"agent\", \"replan\")\n",
    "\n",
    "workflow.add_conditional_edges(\n",
    "    \"replan\",\n",
    "    # Next, we pass in the function that will determine which node is called next.\n",
    "    should_end,\n",
    ")\n",
    "\n",
    "app = workflow.compile()"
   ]
  },
  {
   "cell_type": "code",
   "execution_count": 13,
   "metadata": {},
   "outputs": [
    {
     "data": {
      "image/jpeg": "[encoded data removed]",
      "text/plain": [
       "<IPython.core.display.Image object>"
      ]
     },
     "metadata": {},
     "output_type": "display_data"
    }
   ],
   "source": [
    "from IPython.display import Image, display\n",
    "\n",
    "display(Image(app.get_graph(xray=True).draw_mermaid_png()))"
   ]
  },
  {
   "cell_type": "code",
   "execution_count": 14,
   "metadata": {},
   "outputs": [],
   "source": [
    "from langchain_core.prompts import PromptTemplate\n",
    "from datetime import datetime\n",
    "\n",
    "config = {\"recursion_limit\": 50}\n",
    "question = f\"Today is {datetime.now()}. How old is the champion of the 200 meters at the 2024 Olympics\""
   ]
  },
  {
   "cell_type": "code",
   "execution_count": 15,
   "metadata": {},
   "outputs": [
    {
     "name": "stdout",
     "output_type": "stream",
     "text": [
      "================================\u001b[1m Human Message \u001b[0m=================================\n",
      "\n",
      "Today is 2024-08-15 12:48:55.468966. How old is the champion of the 200 meters at the 2024 Olympics\n",
      "==================================\u001b[1m Ai Message \u001b[0m==================================\n",
      "Tool Calls:\n",
      "  tavily_search_results_json (call_Ms9HAf3h7PEQZDyN1OfnpZZI)\n",
      " Call ID: call_Ms9HAf3h7PEQZDyN1OfnpZZI\n",
      "  Args:\n",
      "    query: 2024 Olympics 200 meters champion age\n",
      "=================================\u001b[1m Tool Message \u001b[0m=================================\n",
      "Name: tavily_search_results_json\n",
      "\n",
      "[{\"url\": \"https://www.latimes.com/sports/olympics/story/2024-08-06/harvard-grad-gabby-thomas-sprints-to-200-meter-gold-medal-for-the-united-states\", \"content\": \"SAINT-DENIS, France \\u2014 Gabby Thomas sped to the victory in the women's 200 meters at the 2024 Olympics on Tuesday night, finishing in 21.83 seconds to add a gold to the bronze she took home in ...\"}, {\"url\": \"https://www.reuters.com/sports/olympics/athletics-botswanas-tebogo-wins-mens-200-metres-gold-2024-08-08/\", \"content\": \"Item 1 of 2 Paris 2024 Olympics - Athletics - Men's 200m Final - Stade de France, Saint-Denis, France - August 08, 2024. Letsile Tebogo of Botswana wins gold ahead of second place Kenneth Bednarek ...\"}, {\"url\": \"https://www.cbsnews.com/news/paris-olympics-2024-200-meters-noah-lyles-kenny-bednarek-letsile-tebogo/\", \"content\": \"Bronze medalist Noah Lyles of Team USA is taken from the track with a wheelchair after competing in the men's 200m final at the 2024 Paris Olympic Games at Stade de France on Aug. 8, 2024.\"}]\n",
      "==================================\u001b[1m Ai Message \u001b[0m==================================\n",
      "Tool Calls:\n",
      "  tavily_search_results_json (call_pauvXhB8zZdi1BJhNgp39Bqa)\n",
      " Call ID: call_pauvXhB8zZdi1BJhNgp39Bqa\n",
      "  Args:\n",
      "    query: Gabby Thomas age\n",
      "  tavily_search_results_json (call_esH5knTfUeYtBO41ImrbWzR3)\n",
      " Call ID: call_esH5knTfUeYtBO41ImrbWzR3\n",
      "  Args:\n",
      "    query: Letsile Tebogo age\n",
      "=================================\u001b[1m Tool Message \u001b[0m=================================\n",
      "Name: tavily_search_results_json\n",
      "\n",
      "[{\"url\": \"https://www.sportingnews.com/us/olympics/news/letsile-tebogo-botswana-noah-lyles-200m-olympics/0f494214db43e2dbae727ecc\", \"content\": \"Who is Letsile Tebogo? Tebogo is a 21-year-old sprinter from Botswana. He won the gold medal in the 200-meter final at the 2024 Paris Olympics.\"}, {\"url\": \"https://olympics.com/en/news/who-is-botswana-sprinter-letsile-tebogo\", \"content\": \"Athletics. (Fredrick_Omondi) Letsile Tebogo has reached another athletics milestone. On 30 April Botswana's rising sprint star set a new world U20 100m record clocking 9.96 at the Gaborone International Meet. The 18-year-old is only the second runner in history to break the 10-second barrier in the Under-20 age class.\"}, {\"url\": \"https://en.wikipedia.org/wiki/Letsile_Tebogo\", \"content\": \"Letsile Tebogo ( Tswana pronunciation: [l\\u026at\\u0361sil\\u025b t\\u025bb\\u028a\\u03c7o]; born 7 June 2003) [ 4] is a Motswana sprinter. He won the gold medal at the 2024 Summer Olympics in the 200 metres event, with his win earning the first-ever Olympic gold medal for Botswana.\"}]\n",
      "==================================\u001b[1m Ai Message \u001b[0m==================================\n",
      "\n",
      "At the 2024 Olympics, the champions of the 200 meters were:\n",
      "\n",
      "1. **Gabby Thomas** (Women's 200m) - She was born on December 7, 1996, making her **27 years old** at the time of the Olympics.\n",
      "2. **Letsile Tebogo** (Men's 200m) - He was born on June 7, 2003, which means he was **21 years old** during the event.\n",
      "\n",
      "Thus, Gabby Thomas is currently 27 years old, and Letsile Tebogo is currently 21 years old.\n"
     ]
    }
   ],
   "source": [
    "await ask(question)"
   ]
  }
 ],
 "metadata": {
  "kernelspec": {
   "display_name": ".venv",
   "language": "python",
   "name": "python3"
  },
  "language_info": {
   "codemirror_mode": {
    "name": "ipython",
    "version": 3
   },
   "file_extension": ".py",
   "mimetype": "text/x-python",
   "name": "python",
   "nbconvert_exporter": "python",
   "pygments_lexer": "ipython3",
   "version": "3.11.9"
  }
 },
 "nbformat": 4,
 "nbformat_minor": 2
}
